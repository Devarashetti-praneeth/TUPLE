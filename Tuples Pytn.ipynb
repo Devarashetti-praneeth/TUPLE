{
 "cells": [
  {
   "cell_type": "markdown",
   "id": "e27515cb",
   "metadata": {},
   "source": [
    "\n",
    "### 1.Find elements frequency in Tuple\n",
    "\n",
    "+ Sample Input: (4, 5, 4, 5, 6, 6, 5) \n",
    "+ Output : {4: 2, 5: 3, 6: 2} \n"
   ]
  },
  {
   "cell_type": "code",
   "execution_count": 46,
   "id": "a3124eb2",
   "metadata": {},
   "outputs": [
    {
     "data": {
      "text/plain": [
       "{4: 2, 5: 3, 6: 2}"
      ]
     },
     "execution_count": 46,
     "metadata": {},
     "output_type": "execute_result"
    }
   ],
   "source": [
    "p=(4,5,4,5,6,6,5)\n",
    "s={}\n",
    "for i in p:\n",
    "    s[i]=p.count(i)\n",
    "s"
   ]
  },
  {
   "cell_type": "markdown",
   "id": "4e333393",
   "metadata": {},
   "source": [
    "### 2.Python program to sort a list of tuples alphabetically\n",
    "+ Input: [(\"aaaa\", 28), (\"aa\", 30), (\"bab\", 29), (\"bb\", 21), (\"csa\", \"C\")]\n",
    "+ Output: [('aa', 30), ('aaaa', 28), ('bab', 29), ('bb', 21), ('csa', 'C')]\n",
    "\n"
   ]
  },
  {
   "cell_type": "code",
   "execution_count": 57,
   "id": "1bf98725",
   "metadata": {},
   "outputs": [
    {
     "data": {
      "text/plain": [
       "[('aa', 30), ('aaaa', 28), ('bab', 29), ('bb', 21), ('csa', 'C')]"
      ]
     },
     "execution_count": 57,
     "metadata": {},
     "output_type": "execute_result"
    }
   ],
   "source": [
    "s=[(\"aaaa\", 28), (\"aa\", 30), (\"bab\", 29), (\"bb\", 21), (\"csa\", \"C\")]\n",
    "s.sort()\n",
    "s\n"
   ]
  },
  {
   "cell_type": "markdown",
   "id": "b49fe0ee",
   "metadata": {},
   "source": [
    "### Write a Python program to calculate the average value of the numbers in a given tuple of tuples\n",
    "\n",
    "+ Original Tuple:  ((1, 1, -5), (30, -15, 56), (81, -60, -39), (-10, 2, 3))\n",
    "+ Average value of the numbers of the said tuple of tuples:\n",
    "\t[25.5, -18.0, 3.75]\n"
   ]
  },
  {
   "cell_type": "code",
   "execution_count": 60,
   "id": "702cb433",
   "metadata": {},
   "outputs": [
    {
     "data": {
      "text/plain": [
       "[25.5, -18.0, 3.75]"
      ]
     },
     "execution_count": 60,
     "metadata": {},
     "output_type": "execute_result"
    }
   ],
   "source": [
    "p= ((1, 1, -5), (30, -15, 56), (81, -60, -39), (-10, 2, 3))\n",
    "s=[]\n",
    "for i in zip(*p):\n",
    "    n=sum(i)/len(i)\n",
    "    s.append(n)\n",
    "s"
   ]
  },
  {
   "cell_type": "code",
   "execution_count": null,
   "id": "be99feff",
   "metadata": {},
   "outputs": [],
   "source": []
  }
 ],
 "metadata": {
  "kernelspec": {
   "display_name": "Python 3 (ipykernel)",
   "language": "python",
   "name": "python3"
  },
  "language_info": {
   "codemirror_mode": {
    "name": "ipython",
    "version": 3
   },
   "file_extension": ".py",
   "mimetype": "text/x-python",
   "name": "python",
   "nbconvert_exporter": "python",
   "pygments_lexer": "ipython3",
   "version": "3.9.13"
  }
 },
 "nbformat": 4,
 "nbformat_minor": 5
}
